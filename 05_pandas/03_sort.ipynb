{
 "cells": [
  {
   "cell_type": "code",
   "execution_count": null,
   "id": "8dff32e9",
   "metadata": {},
   "outputs": [],
   "source": [
    "import pandas as pd"
   ]
  },
  {
   "cell_type": "code",
   "execution_count": null,
   "id": "18e931b5",
   "metadata": {},
   "outputs": [],
   "source": [
    "df = pd.read_csv(\"../files/survey_results_public.csv\", index_col=\"Respondent\")"
   ]
  },
  {
   "cell_type": "code",
   "execution_count": null,
   "id": "b64ab2d3",
   "metadata": {},
   "outputs": [],
   "source": [
    "filter_high_salary = df[\"ConvertedComp\"] > 100_000\n",
    "df[filter_high_salary].sort_values(by=\"ConvertedComp\", ascending=False).head(10)"
   ]
  },
  {
   "cell_type": "code",
   "execution_count": null,
   "id": "7cae4461",
   "metadata": {},
   "outputs": [],
   "source": [
    "df.sort_values(by=\"ConvertedComp\", ascending=False, na_position=\"last\")"
   ]
  },
  {
   "cell_type": "code",
   "execution_count": null,
   "id": "30fd6642",
   "metadata": {},
   "outputs": [],
   "source": [
    "df.loc[filter_high_salary, [\"Country\", \"ConvertedComp\"]].sort_values(by=\"ConvertedComp\", ascending=False).head(30)"
   ]
  },
  {
   "cell_type": "code",
   "execution_count": null,
   "id": "a86e78c7",
   "metadata": {},
   "outputs": [],
   "source": [
    "pd.options.display.float_format = \"{:_.0f}\".format\n",
    "filter_hungary = df[\"Country\"] == \"Hungary\" \n",
    "df.loc[filter_hungary, [\"ConvertedComp\", \"Age\"]].sort_values(by=\"ConvertedComp\", ascending=False).head(10)"
   ]
  },
  {
   "cell_type": "code",
   "execution_count": null,
   "id": "858f0d04",
   "metadata": {},
   "outputs": [],
   "source": [
    "filter_python_devs = df[\"LanguageWorkedWith\"].str.contains(\"Python\", na=False)\n",
    "df.loc[filter_python_devs, [\"LanguageWorkedWith\", \"ConvertedComp\", \"Age\"]].sort_values(\n",
    "    by=\"Age\", ascending=False\n",
    ").head(10)"
   ]
  },
  {
   "cell_type": "code",
   "execution_count": null,
   "id": "7b1a26bc",
   "metadata": {},
   "outputs": [],
   "source": [
    "# Top 10 languages used by Python developers\n",
    "df.loc[filter_python_devs, \"LanguageWorkedWith\"].str.split(\";\").explode().value_counts().head(10)"
   ]
  },
  {
   "cell_type": "code",
   "execution_count": null,
   "id": "39ea06c6",
   "metadata": {},
   "outputs": [],
   "source": [
    "python_devs_df = df[filter_python_devs]\n",
    "python_devs_df.to_csv(\"../files/python_devs.csv\", index=False)"
   ]
  }
 ],
 "metadata": {
  "kernelspec": {
   "display_name": "venv",
   "language": "python",
   "name": "python3"
  },
  "language_info": {
   "codemirror_mode": {
    "name": "ipython",
    "version": 3
   },
   "file_extension": ".py",
   "mimetype": "text/x-python",
   "name": "python",
   "nbconvert_exporter": "python",
   "pygments_lexer": "ipython3",
   "version": "3.13.7"
  }
 },
 "nbformat": 4,
 "nbformat_minor": 5
}
