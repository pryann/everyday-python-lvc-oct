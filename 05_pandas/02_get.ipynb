{
 "cells": [
  {
   "cell_type": "code",
   "execution_count": null,
   "id": "e673710e",
   "metadata": {},
   "outputs": [],
   "source": [
    "import pandas as pd"
   ]
  },
  {
   "cell_type": "code",
   "execution_count": null,
   "id": "8b70e7a5",
   "metadata": {},
   "outputs": [],
   "source": [
    "df = pd.read_csv(\"../files/survey_results_public.csv\")"
   ]
  },
  {
   "cell_type": "code",
   "execution_count": null,
   "id": "0ce20921",
   "metadata": {},
   "outputs": [],
   "source": [
    "# Display the \"Country\" column\n",
    "df[\"Country\"]"
   ]
  },
  {
   "cell_type": "code",
   "execution_count": null,
   "id": "897408bf",
   "metadata": {},
   "outputs": [],
   "source": [
    "# Display the \"Age\" column and count occurrences of each age\n",
    "df[\"Age\"].value_counts()"
   ]
  },
  {
   "cell_type": "code",
   "execution_count": null,
   "id": "f863aa23",
   "metadata": {},
   "outputs": [],
   "source": [
    "# Display the first row of the DataFrame\n",
    "# 0 is the index of the first row\n",
    "# loc use labels to access rows and columns\n",
    "df.loc[0]"
   ]
  },
  {
   "cell_type": "code",
   "execution_count": null,
   "id": "bd3ed9b5",
   "metadata": {},
   "outputs": [],
   "source": [
    "# Display the \"Country\" value from the first row\n",
    "df.loc[0, \"Country\"]"
   ]
  },
  {
   "cell_type": "code",
   "execution_count": null,
   "id": "59f4c3d8",
   "metadata": {},
   "outputs": [],
   "source": [
    "# Alternative way to get the \"Country\" value from the first row using at\n",
    "df.at[10, \"Country\"]"
   ]
  },
  {
   "cell_type": "code",
   "execution_count": null,
   "id": "78dc2a7f",
   "metadata": {},
   "outputs": [],
   "source": [
    "df.loc[[0,5,10], [\"Country\", \"Age\"]]"
   ]
  },
  {
   "cell_type": "code",
   "execution_count": null,
   "id": "c51166bc",
   "metadata": {},
   "outputs": [],
   "source": [
    "df.loc[0:10, [\"Country\", \"Age\"]]"
   ]
  },
  {
   "cell_type": "code",
   "execution_count": null,
   "id": "79cfcc43",
   "metadata": {},
   "outputs": [],
   "source": [
    "df.loc[10:20:2, \"Age\":\"Country\"]"
   ]
  },
  {
   "cell_type": "code",
   "execution_count": null,
   "id": "e2e3c34d",
   "metadata": {},
   "outputs": [],
   "source": [
    "# Display rows 10 to 19 and columns 10 to 19 using iloc\n",
    "# iloc use integer positions to access rows and columns\n",
    "# 0 is the index of the first row/column\n",
    "df.iloc[10:20, 10:20]"
   ]
  },
  {
   "cell_type": "code",
   "execution_count": null,
   "id": "be177f9b",
   "metadata": {},
   "outputs": [],
   "source": [
    "# pd.set_option(\"display.max_rows\", 10)\n",
    "# df[\"YearsCodePro\"] = pd.to_numeric(df[\"YearsCodePro\"], errors=\"coerce\")\n",
    "# df[df[\"YearsCodePro\"] > 20][[\"Age\", \"Country\"]]\n",
    "df.loc[df[\"YearsCodePro\"] > 20, [\"Age\", \"Country\"]]"
   ]
  },
  {
   "cell_type": "code",
   "execution_count": null,
   "id": "cc81d117",
   "metadata": {},
   "outputs": [],
   "source": [
    "\n",
    "df.query(\"YearsCodePro > 20 and WebframeWorkedWith.str.contains('React', na=False)\")[[ \"Age\", \"Country\"]].head(3)\n",
    "# filtered_df = df.query(\"YearsCodePro > 20 and WebframeWorkedWith.str.contains('React', na=False)\")\n",
    "# filtered_df.loc[0:, [\"Age\", \"Country\"]].head(3)"
   ]
  },
  {
   "cell_type": "code",
   "execution_count": null,
   "id": "ac9ed319",
   "metadata": {},
   "outputs": [],
   "source": [
    "contry_groups = df.groupby(\"Country\")\n",
    "# contry_groups.size()\n",
    "contry_groups.get_group(\"United States\")[[\"Age\", \"YearsCodePro\"]].head(3)"
   ]
  },
  {
   "cell_type": "code",
   "execution_count": null,
   "id": "1d408894",
   "metadata": {},
   "outputs": [],
   "source": [
    "df.query(\"Country == 'United States' and Age < 18 and WebframeWorkedWith.str.contains('React', na=False)\")\n"
   ]
  }
 ],
 "metadata": {
  "kernelspec": {
   "display_name": "venv",
   "language": "python",
   "name": "python3"
  },
  "language_info": {
   "codemirror_mode": {
    "name": "ipython",
    "version": 3
   },
   "file_extension": ".py",
   "mimetype": "text/x-python",
   "name": "python",
   "nbconvert_exporter": "python",
   "pygments_lexer": "ipython3",
   "version": "3.13.7"
  }
 },
 "nbformat": 4,
 "nbformat_minor": 5
}
