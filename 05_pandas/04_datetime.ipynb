{
 "cells": [
  {
   "cell_type": "code",
   "execution_count": null,
   "id": "919ffd7a",
   "metadata": {},
   "outputs": [],
   "source": [
    "import pandas as pd\n",
    "import numpy as np"
   ]
  },
  {
   "cell_type": "code",
   "execution_count": null,
   "id": "e5c9b664",
   "metadata": {},
   "outputs": [],
   "source": [
    "df = pd.read_csv(\"../files/eth.csv\")\n",
    "df"
   ]
  },
  {
   "cell_type": "code",
   "execution_count": null,
   "id": "0cef412e",
   "metadata": {},
   "outputs": [],
   "source": [
    "df[\"Date\"] = pd.to_datetime(df[\"Date\"], format=\"%Y-%m-%d %I-%p\")"
   ]
  },
  {
   "cell_type": "code",
   "execution_count": null,
   "id": "503095aa",
   "metadata": {},
   "outputs": [],
   "source": [
    "df[\"Date\"].head(10)"
   ]
  },
  {
   "cell_type": "code",
   "execution_count": null,
   "id": "e4549c21",
   "metadata": {},
   "outputs": [],
   "source": [
    "df[\"Date\"].min()"
   ]
  },
  {
   "cell_type": "code",
   "execution_count": null,
   "id": "788be49e",
   "metadata": {},
   "outputs": [],
   "source": [
    "df[\"Date\"].max()"
   ]
  },
  {
   "cell_type": "code",
   "execution_count": null,
   "id": "8d6f94ba",
   "metadata": {},
   "outputs": [],
   "source": [
    "df[\"Date\"].max() - df[\"Date\"].min()"
   ]
  },
  {
   "cell_type": "code",
   "execution_count": null,
   "id": "cc6a28a7",
   "metadata": {},
   "outputs": [],
   "source": [
    "date_filter = df[\"Date\"] >= '2019'\n",
    "df.loc[date_filter]"
   ]
  },
  {
   "cell_type": "code",
   "execution_count": null,
   "id": "5de14eb5",
   "metadata": {},
   "outputs": [],
   "source": [
    "date_filter = (df[\"Date\"] >= \"2019\") & (df[\"Date\"] < \"2020\")\n",
    "df.loc[date_filter]"
   ]
  },
  {
   "cell_type": "code",
   "execution_count": null,
   "id": "96ae4f7d",
   "metadata": {},
   "outputs": [],
   "source": [
    "df.set_index(\"Date\", inplace=True)\n",
    "# df.reset_index()\n",
    "# df\n",
    "# df[\"2019-01-01\":\"2019-12-31\"]"
   ]
  },
  {
   "cell_type": "code",
   "execution_count": null,
   "id": "3718e42c",
   "metadata": {},
   "outputs": [],
   "source": [
    "df[\"High\"].max()"
   ]
  },
  {
   "cell_type": "code",
   "execution_count": null,
   "id": "837ff839",
   "metadata": {},
   "outputs": [],
   "source": [
    "numeric_cols = df.select_dtypes(include='number').columns\n",
    "six_hourly_mean= df[numeric_cols].resample('6h').mean()\n",
    "six_hourly_mean"
   ]
  }
 ],
 "metadata": {
  "kernelspec": {
   "display_name": "venv",
   "language": "python",
   "name": "python3"
  },
  "language_info": {
   "codemirror_mode": {
    "name": "ipython",
    "version": 3
   },
   "file_extension": ".py",
   "mimetype": "text/x-python",
   "name": "python",
   "nbconvert_exporter": "python",
   "pygments_lexer": "ipython3",
   "version": "3.13.7"
  }
 },
 "nbformat": 4,
 "nbformat_minor": 5
}
